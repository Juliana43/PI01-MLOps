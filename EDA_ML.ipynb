{
 "cells": [
  {
   "cell_type": "code",
   "execution_count": 5,
   "metadata": {},
   "outputs": [],
   "source": [
    "import re\n",
    "import pandas as pd\n",
    "import numpy as np\n",
    "import seaborn as sns\n",
    "import matplotlib.pyplot as plt\n",
    "from sklearn.preprocessing import MinMaxScaler\n",
    "from nltk.stem import PorterStemmer\n",
    "from wordcloud import WordCloud, STOPWORDS"
   ]
  },
  {
   "attachments": {},
   "cell_type": "markdown",
   "metadata": {},
   "source": [
    "Chequeamos el dataframe"
   ]
  },
  {
   "cell_type": "code",
   "execution_count": 6,
   "metadata": {},
   "outputs": [],
   "source": [
    "url = 'https://drive.google.com/file/d/1UxZlxSz8MsyNR-X5dVNkOranIZncSEDy/view?usp=sharing'\n",
    "url= 'https://drive.google.com/uc?id=' + url.split('/')[-2]\n",
    "df_movies_new= pd.read_csv(url)"
   ]
  },
  {
   "cell_type": "code",
   "execution_count": 7,
   "metadata": {},
   "outputs": [
    {
     "data": {
      "text/html": [
       "<div>\n",
       "<style scoped>\n",
       "    .dataframe tbody tr th:only-of-type {\n",
       "        vertical-align: middle;\n",
       "    }\n",
       "\n",
       "    .dataframe tbody tr th {\n",
       "        vertical-align: top;\n",
       "    }\n",
       "\n",
       "    .dataframe thead th {\n",
       "        text-align: right;\n",
       "    }\n",
       "</style>\n",
       "<table border=\"1\" class=\"dataframe\">\n",
       "  <thead>\n",
       "    <tr style=\"text-align: right;\">\n",
       "      <th></th>\n",
       "      <th>budget</th>\n",
       "      <th>id</th>\n",
       "      <th>original_language</th>\n",
       "      <th>overview</th>\n",
       "      <th>popularity</th>\n",
       "      <th>release_date</th>\n",
       "      <th>revenue</th>\n",
       "      <th>runtime</th>\n",
       "      <th>status</th>\n",
       "      <th>title</th>\n",
       "      <th>...</th>\n",
       "      <th>vote_count</th>\n",
       "      <th>return</th>\n",
       "      <th>belongs_to_collection_name</th>\n",
       "      <th>genres</th>\n",
       "      <th>production_companies</th>\n",
       "      <th>production_countries</th>\n",
       "      <th>spoken_languages</th>\n",
       "      <th>release_year</th>\n",
       "      <th>cast</th>\n",
       "      <th>director</th>\n",
       "    </tr>\n",
       "  </thead>\n",
       "  <tbody>\n",
       "    <tr>\n",
       "      <th>0</th>\n",
       "      <td>30000000.0</td>\n",
       "      <td>862</td>\n",
       "      <td>en</td>\n",
       "      <td>Led by Woody, Andy's toys live happily in his ...</td>\n",
       "      <td>21.946943</td>\n",
       "      <td>1995-10-30</td>\n",
       "      <td>373554033.0</td>\n",
       "      <td>81.0</td>\n",
       "      <td>Released</td>\n",
       "      <td>Toy Story</td>\n",
       "      <td>...</td>\n",
       "      <td>5415.0</td>\n",
       "      <td>12.451801</td>\n",
       "      <td>Toy Story Collection</td>\n",
       "      <td>['Animation', 'Comedy', 'Family']</td>\n",
       "      <td>['Pixar Animation Studios']</td>\n",
       "      <td>['United States of America']</td>\n",
       "      <td>['English']</td>\n",
       "      <td>1995</td>\n",
       "      <td>['Tom Hanks', 'Tim Allen', 'Don Rickles', 'Jim...</td>\n",
       "      <td>John Lasseter</td>\n",
       "    </tr>\n",
       "    <tr>\n",
       "      <th>1</th>\n",
       "      <td>65000000.0</td>\n",
       "      <td>8844</td>\n",
       "      <td>en</td>\n",
       "      <td>When siblings Judy and Peter discover an encha...</td>\n",
       "      <td>17.015539</td>\n",
       "      <td>1995-12-15</td>\n",
       "      <td>262797249.0</td>\n",
       "      <td>104.0</td>\n",
       "      <td>Released</td>\n",
       "      <td>Jumanji</td>\n",
       "      <td>...</td>\n",
       "      <td>2413.0</td>\n",
       "      <td>4.043035</td>\n",
       "      <td>NaN</td>\n",
       "      <td>['Adventure', 'Fantasy', 'Family']</td>\n",
       "      <td>['TriStar Pictures', 'Teitler Film', 'Intersco...</td>\n",
       "      <td>['United States of America']</td>\n",
       "      <td>['English', 'Français']</td>\n",
       "      <td>1995</td>\n",
       "      <td>['Robin Williams', 'Jonathan Hyde', 'Kirsten D...</td>\n",
       "      <td>Larry J. Franco</td>\n",
       "    </tr>\n",
       "    <tr>\n",
       "      <th>2</th>\n",
       "      <td>0.0</td>\n",
       "      <td>15602</td>\n",
       "      <td>en</td>\n",
       "      <td>A family wedding reignites the ancient feud be...</td>\n",
       "      <td>11.712900</td>\n",
       "      <td>1995-12-22</td>\n",
       "      <td>0.0</td>\n",
       "      <td>101.0</td>\n",
       "      <td>Released</td>\n",
       "      <td>Grumpier Old Men</td>\n",
       "      <td>...</td>\n",
       "      <td>92.0</td>\n",
       "      <td>0.000000</td>\n",
       "      <td>Grumpy Old Men Collection</td>\n",
       "      <td>['Romance', 'Comedy']</td>\n",
       "      <td>['Warner Bros.', 'Lancaster Gate']</td>\n",
       "      <td>['United States of America']</td>\n",
       "      <td>['English']</td>\n",
       "      <td>1995</td>\n",
       "      <td>['Walter Matthau', 'Jack Lemmon', 'Ann-Margret...</td>\n",
       "      <td>Howard Deutch</td>\n",
       "    </tr>\n",
       "    <tr>\n",
       "      <th>3</th>\n",
       "      <td>16000000.0</td>\n",
       "      <td>31357</td>\n",
       "      <td>en</td>\n",
       "      <td>Cheated on, mistreated and stepped on, the wom...</td>\n",
       "      <td>3.859495</td>\n",
       "      <td>1995-12-22</td>\n",
       "      <td>81452156.0</td>\n",
       "      <td>127.0</td>\n",
       "      <td>Released</td>\n",
       "      <td>Waiting to Exhale</td>\n",
       "      <td>...</td>\n",
       "      <td>34.0</td>\n",
       "      <td>5.090760</td>\n",
       "      <td>NaN</td>\n",
       "      <td>['Comedy', 'Drama', 'Romance']</td>\n",
       "      <td>['Twentieth Century Fox Film Corporation']</td>\n",
       "      <td>['United States of America']</td>\n",
       "      <td>['English']</td>\n",
       "      <td>1995</td>\n",
       "      <td>['Whitney Houston', 'Angela Bassett', 'Loretta...</td>\n",
       "      <td>Forest Whitaker</td>\n",
       "    </tr>\n",
       "    <tr>\n",
       "      <th>4</th>\n",
       "      <td>0.0</td>\n",
       "      <td>11862</td>\n",
       "      <td>en</td>\n",
       "      <td>Just when George Banks has recovered from his ...</td>\n",
       "      <td>8.387519</td>\n",
       "      <td>1995-02-10</td>\n",
       "      <td>76578911.0</td>\n",
       "      <td>106.0</td>\n",
       "      <td>Released</td>\n",
       "      <td>Father of the Bride Part II</td>\n",
       "      <td>...</td>\n",
       "      <td>173.0</td>\n",
       "      <td>0.000000</td>\n",
       "      <td>Father of the Bride Collection</td>\n",
       "      <td>['Comedy']</td>\n",
       "      <td>['Sandollar Productions', 'Touchstone Pictures']</td>\n",
       "      <td>['United States of America']</td>\n",
       "      <td>['English']</td>\n",
       "      <td>1995</td>\n",
       "      <td>['Steve Martin', 'Diane Keaton', 'Martin Short...</td>\n",
       "      <td>Alan Silvestri</td>\n",
       "    </tr>\n",
       "  </tbody>\n",
       "</table>\n",
       "<p>5 rows × 21 columns</p>\n",
       "</div>"
      ],
      "text/plain": [
       "       budget     id original_language  \\\n",
       "0  30000000.0    862                en   \n",
       "1  65000000.0   8844                en   \n",
       "2         0.0  15602                en   \n",
       "3  16000000.0  31357                en   \n",
       "4         0.0  11862                en   \n",
       "\n",
       "                                            overview  popularity release_date  \\\n",
       "0  Led by Woody, Andy's toys live happily in his ...   21.946943   1995-10-30   \n",
       "1  When siblings Judy and Peter discover an encha...   17.015539   1995-12-15   \n",
       "2  A family wedding reignites the ancient feud be...   11.712900   1995-12-22   \n",
       "3  Cheated on, mistreated and stepped on, the wom...    3.859495   1995-12-22   \n",
       "4  Just when George Banks has recovered from his ...    8.387519   1995-02-10   \n",
       "\n",
       "       revenue  runtime    status                        title  ...  \\\n",
       "0  373554033.0     81.0  Released                    Toy Story  ...   \n",
       "1  262797249.0    104.0  Released                      Jumanji  ...   \n",
       "2          0.0    101.0  Released             Grumpier Old Men  ...   \n",
       "3   81452156.0    127.0  Released            Waiting to Exhale  ...   \n",
       "4   76578911.0    106.0  Released  Father of the Bride Part II  ...   \n",
       "\n",
       "   vote_count     return      belongs_to_collection_name  \\\n",
       "0      5415.0  12.451801            Toy Story Collection   \n",
       "1      2413.0   4.043035                             NaN   \n",
       "2        92.0   0.000000       Grumpy Old Men Collection   \n",
       "3        34.0   5.090760                             NaN   \n",
       "4       173.0   0.000000  Father of the Bride Collection   \n",
       "\n",
       "                               genres  \\\n",
       "0   ['Animation', 'Comedy', 'Family']   \n",
       "1  ['Adventure', 'Fantasy', 'Family']   \n",
       "2               ['Romance', 'Comedy']   \n",
       "3      ['Comedy', 'Drama', 'Romance']   \n",
       "4                          ['Comedy']   \n",
       "\n",
       "                                production_companies  \\\n",
       "0                        ['Pixar Animation Studios']   \n",
       "1  ['TriStar Pictures', 'Teitler Film', 'Intersco...   \n",
       "2                 ['Warner Bros.', 'Lancaster Gate']   \n",
       "3         ['Twentieth Century Fox Film Corporation']   \n",
       "4   ['Sandollar Productions', 'Touchstone Pictures']   \n",
       "\n",
       "           production_countries         spoken_languages release_year  \\\n",
       "0  ['United States of America']              ['English']         1995   \n",
       "1  ['United States of America']  ['English', 'Français']         1995   \n",
       "2  ['United States of America']              ['English']         1995   \n",
       "3  ['United States of America']              ['English']         1995   \n",
       "4  ['United States of America']              ['English']         1995   \n",
       "\n",
       "                                                cast         director  \n",
       "0  ['Tom Hanks', 'Tim Allen', 'Don Rickles', 'Jim...    John Lasseter  \n",
       "1  ['Robin Williams', 'Jonathan Hyde', 'Kirsten D...  Larry J. Franco  \n",
       "2  ['Walter Matthau', 'Jack Lemmon', 'Ann-Margret...    Howard Deutch  \n",
       "3  ['Whitney Houston', 'Angela Bassett', 'Loretta...  Forest Whitaker  \n",
       "4  ['Steve Martin', 'Diane Keaton', 'Martin Short...   Alan Silvestri  \n",
       "\n",
       "[5 rows x 21 columns]"
      ]
     },
     "execution_count": 7,
     "metadata": {},
     "output_type": "execute_result"
    }
   ],
   "source": [
    "df_movies = df_movies_new.copy()\n",
    "df_movies.head(5)"
   ]
  },
  {
   "cell_type": "code",
   "execution_count": 8,
   "metadata": {},
   "outputs": [
    {
     "name": "stdout",
     "output_type": "stream",
     "text": [
      "<class 'pandas.core.frame.DataFrame'>\n",
      "RangeIndex: 45345 entries, 0 to 45344\n",
      "Data columns (total 21 columns):\n",
      " #   Column                      Non-Null Count  Dtype  \n",
      "---  ------                      --------------  -----  \n",
      " 0   budget                      45345 non-null  float64\n",
      " 1   id                          45345 non-null  int64  \n",
      " 2   original_language           45334 non-null  object \n",
      " 3   overview                    44404 non-null  object \n",
      " 4   popularity                  45345 non-null  float64\n",
      " 5   release_date                45345 non-null  object \n",
      " 6   revenue                     45345 non-null  float64\n",
      " 7   runtime                     45099 non-null  float64\n",
      " 8   status                      45265 non-null  object \n",
      " 9   title                       45345 non-null  object \n",
      " 10  vote_average                45345 non-null  float64\n",
      " 11  vote_count                  45345 non-null  float64\n",
      " 12  return                      45345 non-null  float64\n",
      " 13  belongs_to_collection_name  4485 non-null   object \n",
      " 14  genres                      45345 non-null  object \n",
      " 15  production_companies        45345 non-null  object \n",
      " 16  production_countries        45345 non-null  object \n",
      " 17  spoken_languages            45345 non-null  object \n",
      " 18  release_year                45345 non-null  int64  \n",
      " 19  cast                        45345 non-null  object \n",
      " 20  director                    45345 non-null  object \n",
      "dtypes: float64(7), int64(2), object(12)\n",
      "memory usage: 7.3+ MB\n"
     ]
    }
   ],
   "source": [
    "df_movies.info()"
   ]
  },
  {
   "attachments": {},
   "cell_type": "markdown",
   "metadata": {},
   "source": [
    "Eliminamos columnas innecesarias\n"
   ]
  },
  {
   "cell_type": "code",
   "execution_count": 9,
   "metadata": {},
   "outputs": [],
   "source": [
    "drop_columns = ['original_language', 'runtime', 'spoken_languages', 'status', \n",
    "                'belongs_to_collection_name', 'production_companies', 'production_countries',\n",
    "                'release_date']\n",
    "df_movies.drop(columns=drop_columns, axis=1, inplace=True)"
   ]
  },
  {
   "cell_type": "code",
   "execution_count": 10,
   "metadata": {},
   "outputs": [
    {
     "name": "stdout",
     "output_type": "stream",
     "text": [
      "<class 'pandas.core.frame.DataFrame'>\n",
      "RangeIndex: 45345 entries, 0 to 45344\n",
      "Data columns (total 13 columns):\n",
      " #   Column        Non-Null Count  Dtype  \n",
      "---  ------        --------------  -----  \n",
      " 0   budget        45345 non-null  float64\n",
      " 1   id            45345 non-null  int64  \n",
      " 2   overview      44404 non-null  object \n",
      " 3   popularity    45345 non-null  float64\n",
      " 4   revenue       45345 non-null  float64\n",
      " 5   title         45345 non-null  object \n",
      " 6   vote_average  45345 non-null  float64\n",
      " 7   vote_count    45345 non-null  float64\n",
      " 8   return        45345 non-null  float64\n",
      " 9   genres        45345 non-null  object \n",
      " 10  release_year  45345 non-null  int64  \n",
      " 11  cast          45345 non-null  object \n",
      " 12  director      45345 non-null  object \n",
      "dtypes: float64(6), int64(2), object(5)\n",
      "memory usage: 4.5+ MB\n"
     ]
    }
   ],
   "source": [
    "df_movies.info()"
   ]
  },
  {
   "cell_type": "code",
   "execution_count": 11,
   "metadata": {},
   "outputs": [
    {
     "data": {
      "text/html": [
       "<div>\n",
       "<style scoped>\n",
       "    .dataframe tbody tr th:only-of-type {\n",
       "        vertical-align: middle;\n",
       "    }\n",
       "\n",
       "    .dataframe tbody tr th {\n",
       "        vertical-align: top;\n",
       "    }\n",
       "\n",
       "    .dataframe thead th {\n",
       "        text-align: right;\n",
       "    }\n",
       "</style>\n",
       "<table border=\"1\" class=\"dataframe\">\n",
       "  <thead>\n",
       "    <tr style=\"text-align: right;\">\n",
       "      <th></th>\n",
       "      <th>budget</th>\n",
       "      <th>id</th>\n",
       "      <th>popularity</th>\n",
       "      <th>revenue</th>\n",
       "      <th>vote_average</th>\n",
       "      <th>vote_count</th>\n",
       "      <th>return</th>\n",
       "      <th>release_year</th>\n",
       "    </tr>\n",
       "  </thead>\n",
       "  <tbody>\n",
       "    <tr>\n",
       "      <th>count</th>\n",
       "      <td>4.534500e+04</td>\n",
       "      <td>45345.000000</td>\n",
       "      <td>45345.000000</td>\n",
       "      <td>4.534500e+04</td>\n",
       "      <td>45345.000000</td>\n",
       "      <td>45345.000000</td>\n",
       "      <td>4.534500e+04</td>\n",
       "      <td>45345.000000</td>\n",
       "    </tr>\n",
       "    <tr>\n",
       "      <th>mean</th>\n",
       "      <td>4.232673e+06</td>\n",
       "      <td>108035.740479</td>\n",
       "      <td>2.926248</td>\n",
       "      <td>1.123390e+07</td>\n",
       "      <td>5.624320</td>\n",
       "      <td>110.137722</td>\n",
       "      <td>6.604937e+02</td>\n",
       "      <td>1991.882280</td>\n",
       "    </tr>\n",
       "    <tr>\n",
       "      <th>std</th>\n",
       "      <td>1.744391e+07</td>\n",
       "      <td>112180.079341</td>\n",
       "      <td>6.011023</td>\n",
       "      <td>6.441058e+07</td>\n",
       "      <td>1.915178</td>\n",
       "      <td>491.904428</td>\n",
       "      <td>7.471882e+04</td>\n",
       "      <td>24.053016</td>\n",
       "    </tr>\n",
       "    <tr>\n",
       "      <th>min</th>\n",
       "      <td>0.000000e+00</td>\n",
       "      <td>2.000000</td>\n",
       "      <td>0.000000</td>\n",
       "      <td>0.000000e+00</td>\n",
       "      <td>0.000000</td>\n",
       "      <td>0.000000</td>\n",
       "      <td>0.000000e+00</td>\n",
       "      <td>1874.000000</td>\n",
       "    </tr>\n",
       "    <tr>\n",
       "      <th>25%</th>\n",
       "      <td>0.000000e+00</td>\n",
       "      <td>26390.000000</td>\n",
       "      <td>0.388826</td>\n",
       "      <td>0.000000e+00</td>\n",
       "      <td>5.000000</td>\n",
       "      <td>3.000000</td>\n",
       "      <td>0.000000e+00</td>\n",
       "      <td>1978.000000</td>\n",
       "    </tr>\n",
       "    <tr>\n",
       "      <th>50%</th>\n",
       "      <td>0.000000e+00</td>\n",
       "      <td>59852.000000</td>\n",
       "      <td>1.130269</td>\n",
       "      <td>0.000000e+00</td>\n",
       "      <td>6.000000</td>\n",
       "      <td>10.000000</td>\n",
       "      <td>0.000000e+00</td>\n",
       "      <td>2001.000000</td>\n",
       "    </tr>\n",
       "    <tr>\n",
       "      <th>75%</th>\n",
       "      <td>0.000000e+00</td>\n",
       "      <td>156597.000000</td>\n",
       "      <td>3.689610</td>\n",
       "      <td>0.000000e+00</td>\n",
       "      <td>6.800000</td>\n",
       "      <td>34.000000</td>\n",
       "      <td>0.000000e+00</td>\n",
       "      <td>2010.000000</td>\n",
       "    </tr>\n",
       "    <tr>\n",
       "      <th>max</th>\n",
       "      <td>3.800000e+08</td>\n",
       "      <td>469172.000000</td>\n",
       "      <td>547.488298</td>\n",
       "      <td>2.787965e+09</td>\n",
       "      <td>10.000000</td>\n",
       "      <td>14075.000000</td>\n",
       "      <td>1.239638e+07</td>\n",
       "      <td>2020.000000</td>\n",
       "    </tr>\n",
       "  </tbody>\n",
       "</table>\n",
       "</div>"
      ],
      "text/plain": [
       "             budget             id    popularity       revenue  vote_average  \\\n",
       "count  4.534500e+04   45345.000000  45345.000000  4.534500e+04  45345.000000   \n",
       "mean   4.232673e+06  108035.740479      2.926248  1.123390e+07      5.624320   \n",
       "std    1.744391e+07  112180.079341      6.011023  6.441058e+07      1.915178   \n",
       "min    0.000000e+00       2.000000      0.000000  0.000000e+00      0.000000   \n",
       "25%    0.000000e+00   26390.000000      0.388826  0.000000e+00      5.000000   \n",
       "50%    0.000000e+00   59852.000000      1.130269  0.000000e+00      6.000000   \n",
       "75%    0.000000e+00  156597.000000      3.689610  0.000000e+00      6.800000   \n",
       "max    3.800000e+08  469172.000000    547.488298  2.787965e+09     10.000000   \n",
       "\n",
       "         vote_count        return  release_year  \n",
       "count  45345.000000  4.534500e+04  45345.000000  \n",
       "mean     110.137722  6.604937e+02   1991.882280  \n",
       "std      491.904428  7.471882e+04     24.053016  \n",
       "min        0.000000  0.000000e+00   1874.000000  \n",
       "25%        3.000000  0.000000e+00   1978.000000  \n",
       "50%       10.000000  0.000000e+00   2001.000000  \n",
       "75%       34.000000  0.000000e+00   2010.000000  \n",
       "max    14075.000000  1.239638e+07   2020.000000  "
      ]
     },
     "execution_count": 11,
     "metadata": {},
     "output_type": "execute_result"
    }
   ],
   "source": [
    "df_movies.describe()"
   ]
  },
  {
   "attachments": {},
   "cell_type": "markdown",
   "metadata": {},
   "source": [
    "Eliminamos caracteres de la columna genre_name"
   ]
  },
  {
   "cell_type": "code",
   "execution_count": 12,
   "metadata": {},
   "outputs": [],
   "source": [
    "df_movies['genres'] = df_movies['genres'].apply(lambda x: x.strip(\"[]\").replace(\"'\", '').replace(\",\", '').strip())"
   ]
  },
  {
   "attachments": {},
   "cell_type": "markdown",
   "metadata": {},
   "source": [
    "Cambiamos el nombre del campo vacio a NoData"
   ]
  },
  {
   "cell_type": "code",
   "execution_count": 13,
   "metadata": {},
   "outputs": [
    {
     "name": "stderr",
     "output_type": "stream",
     "text": [
      "C:\\Users\\cacer\\AppData\\Local\\Temp\\ipykernel_17096\\4059772549.py:3: SettingWithCopyWarning: \n",
      "A value is trying to be set on a copy of a slice from a DataFrame\n",
      "\n",
      "See the caveats in the documentation: https://pandas.pydata.org/pandas-docs/stable/user_guide/indexing.html#returning-a-view-versus-a-copy\n",
      "  df_movies['genres'].iloc[index] = 'NoData'\n"
     ]
    }
   ],
   "source": [
    "empty_genre_list = df_movies[df_movies['genres'] == ''].index.values\n",
    "for index in empty_genre_list:\n",
    "    df_movies['genres'].iloc[index] = 'NoData'"
   ]
  },
  {
   "cell_type": "code",
   "execution_count": 14,
   "metadata": {},
   "outputs": [],
   "source": [
    "df_title = df_movies.copy()"
   ]
  },
  {
   "attachments": {},
   "cell_type": "markdown",
   "metadata": {},
   "source": [
    "Expandimos la columna genre_name a mas columnas"
   ]
  },
  {
   "cell_type": "code",
   "execution_count": 15,
   "metadata": {},
   "outputs": [],
   "source": [
    "# df_aux = df_movies['genres'].str.split(' ', expand=True)\n",
    "# df_aux.head()"
   ]
  },
  {
   "attachments": {},
   "cell_type": "markdown",
   "metadata": {},
   "source": [
    "Creamos una lista de genero unico"
   ]
  },
  {
   "cell_type": "code",
   "execution_count": 16,
   "metadata": {},
   "outputs": [],
   "source": [
    "# columns_list = df_aux.columns.values.tolist()\n",
    "# genre_list = [df_aux[column].unique() for column in columns_list]\n",
    "# flat_list = [item for sublist in genre_list for item in sublist]\n",
    "# unique_list = set(flat_list)\n",
    "# unique_list"
   ]
  },
  {
   "attachments": {},
   "cell_type": "markdown",
   "metadata": {},
   "source": [
    "Remover columnas nulas"
   ]
  },
  {
   "cell_type": "code",
   "execution_count": 17,
   "metadata": {},
   "outputs": [],
   "source": [
    "# unique_list.remove(None)"
   ]
  },
  {
   "attachments": {},
   "cell_type": "markdown",
   "metadata": {},
   "source": [
    "MACHINE LEARNING"
   ]
  },
  {
   "attachments": {},
   "cell_type": "markdown",
   "metadata": {},
   "source": [
    "Crea una nube de palabras con el título de la película."
   ]
  },
  {
   "cell_type": "code",
   "execution_count": 18,
   "metadata": {},
   "outputs": [],
   "source": [
    "title = df_title['title'].to_list()"
   ]
  },
  {
   "cell_type": "code",
   "execution_count": 19,
   "metadata": {},
   "outputs": [],
   "source": [
    "title_word = [word.split(' ') for word in title]\n"
   ]
  },
  {
   "cell_type": "code",
   "execution_count": 20,
   "metadata": {},
   "outputs": [],
   "source": [
    "title_word = [word for word_list in title_word for word in word_list]"
   ]
  },
  {
   "cell_type": "code",
   "execution_count": 21,
   "metadata": {},
   "outputs": [],
   "source": [
    "token0 = []\n",
    "for word in title_word:\n",
    "  if len(word) >= 3:\n",
    "    token0.append(word.lower())"
   ]
  },
  {
   "cell_type": "code",
   "execution_count": 22,
   "metadata": {},
   "outputs": [
    {
     "name": "stderr",
     "output_type": "stream",
     "text": [
      "[nltk_data] Downloading package stopwords to\n",
      "[nltk_data]     C:\\Users\\cacer\\AppData\\Roaming\\nltk_data...\n",
      "[nltk_data]   Package stopwords is already up-to-date!\n"
     ]
    }
   ],
   "source": [
    "import nltk\n",
    "from nltk.corpus import stopwords\n",
    "\n",
    "nltk.download(\"stopwords\")\n",
    "\n",
    "stopwords_a=set(stopwords.words('english'))\n",
    "token1 = [word for word in token0 if word not in stopwords_a]"
   ]
  },
  {
   "attachments": {},
   "cell_type": "markdown",
   "metadata": {},
   "source": [
    "Obtenga la frecuencia de cada palabra en el título."
   ]
  },
  {
   "cell_type": "code",
   "execution_count": 23,
   "metadata": {},
   "outputs": [
    {
     "data": {
      "text/plain": [
       "FreqDist({'man': 639, 'love': 635, 'story': 392, 'night': 382, 'life': 377, 'last': 344, 'girl': 296, 'dead': 277, 'one': 270, 'day': 263, ...})"
      ]
     },
     "execution_count": 23,
     "metadata": {},
     "output_type": "execute_result"
    }
   ],
   "source": [
    "from nltk.probability import FreqDist\n",
    "\n",
    "fdist = FreqDist(token1)\n",
    "fdist"
   ]
  },
  {
   "attachments": {},
   "cell_type": "markdown",
   "metadata": {},
   "source": [
    "Cree un nuevo dataframe para almacenar la palabra y la frecuencia"
   ]
  },
  {
   "cell_type": "code",
   "execution_count": 24,
   "metadata": {},
   "outputs": [
    {
     "data": {
      "text/html": [
       "<div>\n",
       "<style scoped>\n",
       "    .dataframe tbody tr th:only-of-type {\n",
       "        vertical-align: middle;\n",
       "    }\n",
       "\n",
       "    .dataframe tbody tr th {\n",
       "        vertical-align: top;\n",
       "    }\n",
       "\n",
       "    .dataframe thead th {\n",
       "        text-align: right;\n",
       "    }\n",
       "</style>\n",
       "<table border=\"1\" class=\"dataframe\">\n",
       "  <thead>\n",
       "    <tr style=\"text-align: right;\">\n",
       "      <th></th>\n",
       "      <th>Word</th>\n",
       "      <th>Frequency</th>\n",
       "    </tr>\n",
       "  </thead>\n",
       "  <tbody>\n",
       "    <tr>\n",
       "      <th>0</th>\n",
       "      <td>toy</td>\n",
       "      <td>13</td>\n",
       "    </tr>\n",
       "    <tr>\n",
       "      <th>1</th>\n",
       "      <td>story</td>\n",
       "      <td>392</td>\n",
       "    </tr>\n",
       "    <tr>\n",
       "      <th>2</th>\n",
       "      <td>jumanji</td>\n",
       "      <td>1</td>\n",
       "    </tr>\n",
       "    <tr>\n",
       "      <th>3</th>\n",
       "      <td>grumpier</td>\n",
       "      <td>1</td>\n",
       "    </tr>\n",
       "    <tr>\n",
       "      <th>4</th>\n",
       "      <td>old</td>\n",
       "      <td>80</td>\n",
       "    </tr>\n",
       "  </tbody>\n",
       "</table>\n",
       "</div>"
      ],
      "text/plain": [
       "       Word  Frequency\n",
       "0       toy         13\n",
       "1     story        392\n",
       "2   jumanji          1\n",
       "3  grumpier          1\n",
       "4       old         80"
      ]
     },
     "execution_count": 24,
     "metadata": {},
     "output_type": "execute_result"
    }
   ],
   "source": [
    "df_title_new = pd.DataFrame(list(fdist.items()), columns = [\"Word\",\"Frequency\"])\n",
    "df_title_new.head()\n"
   ]
  },
  {
   "cell_type": "code",
   "execution_count": 25,
   "metadata": {},
   "outputs": [],
   "source": [
    "df_title_new.sort_values('Frequency',ascending=False, inplace = True)\n",
    "df_title_new.reset_index(drop = True, inplace=True)"
   ]
  },
  {
   "attachments": {},
   "cell_type": "markdown",
   "metadata": {},
   "source": [
    "Aplicar stemming"
   ]
  },
  {
   "cell_type": "code",
   "execution_count": 26,
   "metadata": {},
   "outputs": [],
   "source": [
    "stemmer = PorterStemmer()"
   ]
  },
  {
   "cell_type": "code",
   "execution_count": 27,
   "metadata": {},
   "outputs": [
    {
     "name": "stderr",
     "output_type": "stream",
     "text": [
      "[nltk_data] Downloading package punkt to\n",
      "[nltk_data]     C:\\Users\\cacer\\AppData\\Roaming\\nltk_data...\n",
      "[nltk_data]   Package punkt is already up-to-date!\n"
     ]
    },
    {
     "data": {
      "text/plain": [
       "True"
      ]
     },
     "execution_count": 27,
     "metadata": {},
     "output_type": "execute_result"
    }
   ],
   "source": [
    "nltk.download('punkt')"
   ]
  },
  {
   "cell_type": "code",
   "execution_count": 28,
   "metadata": {},
   "outputs": [],
   "source": [
    "title_list=[]\n",
    "for tit in df_title_new['Word']:\n",
    "   \n",
    "    # Tokenized to separate words\n",
    "    tit=nltk.word_tokenize(tit)\n",
    "        \n",
    "    # Find the word root\n",
    "    tit=[stemmer.stem(word) for word in tit]\n",
    "    # Union to the title again\n",
    "    tit=\" \".join(tit)\n",
    "    \n",
    "    # list with root word of the title\n",
    "    title_list.append(tit)\n",
    "        \n"
   ]
  },
  {
   "cell_type": "code",
   "execution_count": 29,
   "metadata": {},
   "outputs": [
    {
     "data": {
      "text/html": [
       "<div>\n",
       "<style scoped>\n",
       "    .dataframe tbody tr th:only-of-type {\n",
       "        vertical-align: middle;\n",
       "    }\n",
       "\n",
       "    .dataframe tbody tr th {\n",
       "        vertical-align: top;\n",
       "    }\n",
       "\n",
       "    .dataframe thead th {\n",
       "        text-align: right;\n",
       "    }\n",
       "</style>\n",
       "<table border=\"1\" class=\"dataframe\">\n",
       "  <thead>\n",
       "    <tr style=\"text-align: right;\">\n",
       "      <th></th>\n",
       "      <th>Word</th>\n",
       "      <th>Frequency</th>\n",
       "      <th>word_stem</th>\n",
       "    </tr>\n",
       "  </thead>\n",
       "  <tbody>\n",
       "    <tr>\n",
       "      <th>0</th>\n",
       "      <td>man</td>\n",
       "      <td>639</td>\n",
       "      <td>man</td>\n",
       "    </tr>\n",
       "    <tr>\n",
       "      <th>1</th>\n",
       "      <td>love</td>\n",
       "      <td>635</td>\n",
       "      <td>love</td>\n",
       "    </tr>\n",
       "    <tr>\n",
       "      <th>2</th>\n",
       "      <td>story</td>\n",
       "      <td>392</td>\n",
       "      <td>stori</td>\n",
       "    </tr>\n",
       "    <tr>\n",
       "      <th>3</th>\n",
       "      <td>night</td>\n",
       "      <td>382</td>\n",
       "      <td>night</td>\n",
       "    </tr>\n",
       "    <tr>\n",
       "      <th>4</th>\n",
       "      <td>life</td>\n",
       "      <td>377</td>\n",
       "      <td>life</td>\n",
       "    </tr>\n",
       "    <tr>\n",
       "      <th>...</th>\n",
       "      <td>...</td>\n",
       "      <td>...</td>\n",
       "      <td>...</td>\n",
       "    </tr>\n",
       "    <tr>\n",
       "      <th>26706</th>\n",
       "      <td>taistelu</td>\n",
       "      <td>1</td>\n",
       "      <td>taistelu</td>\n",
       "    </tr>\n",
       "    <tr>\n",
       "      <th>26707</th>\n",
       "      <td>näsilinnasta</td>\n",
       "      <td>1</td>\n",
       "      <td>näsilinnasta</td>\n",
       "    </tr>\n",
       "    <tr>\n",
       "      <th>26708</th>\n",
       "      <td>brake</td>\n",
       "      <td>1</td>\n",
       "      <td>brake</td>\n",
       "    </tr>\n",
       "    <tr>\n",
       "      <th>26709</th>\n",
       "      <td>k-20:</td>\n",
       "      <td>1</td>\n",
       "      <td>k-20 :</td>\n",
       "    </tr>\n",
       "    <tr>\n",
       "      <th>26710</th>\n",
       "      <td>queerama</td>\n",
       "      <td>1</td>\n",
       "      <td>queerama</td>\n",
       "    </tr>\n",
       "  </tbody>\n",
       "</table>\n",
       "<p>26711 rows × 3 columns</p>\n",
       "</div>"
      ],
      "text/plain": [
       "               Word  Frequency     word_stem\n",
       "0               man        639           man\n",
       "1              love        635          love\n",
       "2             story        392         stori\n",
       "3             night        382         night\n",
       "4              life        377          life\n",
       "...             ...        ...           ...\n",
       "26706      taistelu          1      taistelu\n",
       "26707  näsilinnasta          1  näsilinnasta\n",
       "26708         brake          1         brake\n",
       "26709         k-20:          1        k-20 :\n",
       "26710      queerama          1      queerama\n",
       "\n",
       "[26711 rows x 3 columns]"
      ]
     },
     "execution_count": 29,
     "metadata": {},
     "output_type": "execute_result"
    }
   ],
   "source": [
    "df_title_new['word_stem'] = title_list\n",
    "df_title_new"
   ]
  },
  {
   "attachments": {},
   "cell_type": "markdown",
   "metadata": {},
   "source": [
    "Graficar el stemming "
   ]
  },
  {
   "cell_type": "code",
   "execution_count": 30,
   "metadata": {},
   "outputs": [
    {
     "data": {
      "image/png": "[encoded data removed]",
      "text/plain": [
       "<Figure size 1500x800 with 1 Axes>"
      ]
     },
     "metadata": {},
     "output_type": "display_data"
    }
   ],
   "source": [
    "plt.figure(figsize = (15,8))\n",
    "plot = sns.barplot(x  = df_title_new.iloc[:30].word_stem, y = df_title_new.iloc[:30].Frequency)\n",
    "for item in plot.get_xticklabels():\n",
    "    item.set_rotation(90)\n",
    "plt.show()"
   ]
  },
  {
   "attachments": {},
   "cell_type": "markdown",
   "metadata": {},
   "source": [
    "Graficar non-stemming "
   ]
  },
  {
   "cell_type": "code",
   "execution_count": 31,
   "metadata": {},
   "outputs": [
    {
     "data": {
      "image/png": "[encoded data removed]",
      "text/plain": [
       "<Figure size 1500x800 with 1 Axes>"
      ]
     },
     "metadata": {},
     "output_type": "display_data"
    }
   ],
   "source": [
    "plt.figure(figsize = (15,8))\n",
    "plot = sns.barplot(x  = df_title_new.iloc[:30].Word, y = df_title_new.iloc[:30].Frequency)\n",
    "for item in plot.get_xticklabels():\n",
    "    item.set_rotation(90)\n",
    "plt.show()"
   ]
  },
  {
   "attachments": {},
   "cell_type": "markdown",
   "metadata": {},
   "source": [
    "Crear un  heatmap graph"
   ]
  },
  {
   "cell_type": "code",
   "execution_count": 32,
   "metadata": {},
   "outputs": [
    {
     "name": "stderr",
     "output_type": "stream",
     "text": [
      "C:\\Users\\cacer\\AppData\\Local\\Temp\\ipykernel_17096\\1704130956.py:1: FutureWarning: The default value of numeric_only in DataFrame.corr is deprecated. In a future version, it will default to False. Select only valid columns or specify the value of numeric_only to silence this warning.\n",
      "  corr = df_title.corr()\n"
     ]
    },
    {
     "data": {
      "image/png": "[encoded data removed]",
      "text/plain": [
       "<Figure size 1500x1500 with 2 Axes>"
      ]
     },
     "metadata": {},
     "output_type": "display_data"
    }
   ],
   "source": [
    "corr = df_title.corr()\n",
    "plt.figure(figsize = (15,15))\n",
    "sns.heatmap(corr, \n",
    "        xticklabels=corr.columns,\n",
    "        yticklabels=corr.columns,\n",
    "        fmt= '.1f',annot_kws={'size': 10},\n",
    "        annot=True);"
   ]
  },
  {
   "attachments": {},
   "cell_type": "markdown",
   "metadata": {},
   "source": [
    "Usamos waighted average para sacar el promedio de cada pelicula y su ranking"
   ]
  },
  {
   "cell_type": "code",
   "execution_count": 33,
   "metadata": {},
   "outputs": [],
   "source": [
    "#Calculamos a base de la formula\n",
    "v = df_movies['vote_count']\n",
    "R = df_movies['vote_average']\n",
    "C = df_movies['vote_average'].mean()\n",
    "m = df_movies['vote_count'].quantile(0.70)"
   ]
  },
  {
   "cell_type": "code",
   "execution_count": 34,
   "metadata": {},
   "outputs": [
    {
     "data": {
      "text/html": [
       "<div>\n",
       "<style scoped>\n",
       "    .dataframe tbody tr th:only-of-type {\n",
       "        vertical-align: middle;\n",
       "    }\n",
       "\n",
       "    .dataframe tbody tr th {\n",
       "        vertical-align: top;\n",
       "    }\n",
       "\n",
       "    .dataframe thead th {\n",
       "        text-align: right;\n",
       "    }\n",
       "</style>\n",
       "<table border=\"1\" class=\"dataframe\">\n",
       "  <thead>\n",
       "    <tr style=\"text-align: right;\">\n",
       "      <th></th>\n",
       "      <th>budget</th>\n",
       "      <th>id</th>\n",
       "      <th>overview</th>\n",
       "      <th>popularity</th>\n",
       "      <th>revenue</th>\n",
       "      <th>title</th>\n",
       "      <th>vote_average</th>\n",
       "      <th>vote_count</th>\n",
       "      <th>return</th>\n",
       "      <th>genres</th>\n",
       "      <th>release_year</th>\n",
       "      <th>cast</th>\n",
       "      <th>director</th>\n",
       "      <th>weighted_average</th>\n",
       "    </tr>\n",
       "  </thead>\n",
       "  <tbody>\n",
       "    <tr>\n",
       "      <th>0</th>\n",
       "      <td>30000000.0</td>\n",
       "      <td>862</td>\n",
       "      <td>Led by Woody, Andy's toys live happily in his ...</td>\n",
       "      <td>21.946943</td>\n",
       "      <td>373554033.0</td>\n",
       "      <td>Toy Story</td>\n",
       "      <td>7.7</td>\n",
       "      <td>5415.0</td>\n",
       "      <td>12.451801</td>\n",
       "      <td>Animation Comedy Family</td>\n",
       "      <td>1995</td>\n",
       "      <td>['Tom Hanks', 'Tim Allen', 'Don Rickles', 'Jim...</td>\n",
       "      <td>John Lasseter</td>\n",
       "      <td>7.690461</td>\n",
       "    </tr>\n",
       "    <tr>\n",
       "      <th>1</th>\n",
       "      <td>65000000.0</td>\n",
       "      <td>8844</td>\n",
       "      <td>When siblings Judy and Peter discover an encha...</td>\n",
       "      <td>17.015539</td>\n",
       "      <td>262797249.0</td>\n",
       "      <td>Jumanji</td>\n",
       "      <td>6.9</td>\n",
       "      <td>2413.0</td>\n",
       "      <td>4.043035</td>\n",
       "      <td>Adventure Fantasy Family</td>\n",
       "      <td>1995</td>\n",
       "      <td>['Robin Williams', 'Jonathan Hyde', 'Kirsten D...</td>\n",
       "      <td>Larry J. Franco</td>\n",
       "      <td>6.886919</td>\n",
       "    </tr>\n",
       "    <tr>\n",
       "      <th>2</th>\n",
       "      <td>0.0</td>\n",
       "      <td>15602</td>\n",
       "      <td>A family wedding reignites the ancient feud be...</td>\n",
       "      <td>11.712900</td>\n",
       "      <td>0.0</td>\n",
       "      <td>Grumpier Old Men</td>\n",
       "      <td>6.5</td>\n",
       "      <td>92.0</td>\n",
       "      <td>0.000000</td>\n",
       "      <td>Romance Comedy</td>\n",
       "      <td>1995</td>\n",
       "      <td>['Walter Matthau', 'Jack Lemmon', 'Ann-Margret...</td>\n",
       "      <td>Howard Deutch</td>\n",
       "      <td>6.312889</td>\n",
       "    </tr>\n",
       "    <tr>\n",
       "      <th>3</th>\n",
       "      <td>16000000.0</td>\n",
       "      <td>31357</td>\n",
       "      <td>Cheated on, mistreated and stepped on, the wom...</td>\n",
       "      <td>3.859495</td>\n",
       "      <td>81452156.0</td>\n",
       "      <td>Waiting to Exhale</td>\n",
       "      <td>6.1</td>\n",
       "      <td>34.0</td>\n",
       "      <td>5.090760</td>\n",
       "      <td>Comedy Drama Romance</td>\n",
       "      <td>1995</td>\n",
       "      <td>['Whitney Houston', 'Angela Bassett', 'Loretta...</td>\n",
       "      <td>Forest Whitaker</td>\n",
       "      <td>5.898441</td>\n",
       "    </tr>\n",
       "    <tr>\n",
       "      <th>4</th>\n",
       "      <td>0.0</td>\n",
       "      <td>11862</td>\n",
       "      <td>Just when George Banks has recovered from his ...</td>\n",
       "      <td>8.387519</td>\n",
       "      <td>76578911.0</td>\n",
       "      <td>Father of the Bride Part II</td>\n",
       "      <td>5.7</td>\n",
       "      <td>173.0</td>\n",
       "      <td>0.000000</td>\n",
       "      <td>Comedy</td>\n",
       "      <td>1995</td>\n",
       "      <td>['Steve Martin', 'Diane Keaton', 'Martin Short...</td>\n",
       "      <td>Alan Silvestri</td>\n",
       "      <td>5.690444</td>\n",
       "    </tr>\n",
       "  </tbody>\n",
       "</table>\n",
       "</div>"
      ],
      "text/plain": [
       "       budget     id                                           overview  \\\n",
       "0  30000000.0    862  Led by Woody, Andy's toys live happily in his ...   \n",
       "1  65000000.0   8844  When siblings Judy and Peter discover an encha...   \n",
       "2         0.0  15602  A family wedding reignites the ancient feud be...   \n",
       "3  16000000.0  31357  Cheated on, mistreated and stepped on, the wom...   \n",
       "4         0.0  11862  Just when George Banks has recovered from his ...   \n",
       "\n",
       "   popularity      revenue                        title  vote_average  \\\n",
       "0   21.946943  373554033.0                    Toy Story           7.7   \n",
       "1   17.015539  262797249.0                      Jumanji           6.9   \n",
       "2   11.712900          0.0             Grumpier Old Men           6.5   \n",
       "3    3.859495   81452156.0            Waiting to Exhale           6.1   \n",
       "4    8.387519   76578911.0  Father of the Bride Part II           5.7   \n",
       "\n",
       "   vote_count     return                    genres  release_year  \\\n",
       "0      5415.0  12.451801   Animation Comedy Family          1995   \n",
       "1      2413.0   4.043035  Adventure Fantasy Family          1995   \n",
       "2        92.0   0.000000            Romance Comedy          1995   \n",
       "3        34.0   5.090760      Comedy Drama Romance          1995   \n",
       "4       173.0   0.000000                    Comedy          1995   \n",
       "\n",
       "                                                cast         director  \\\n",
       "0  ['Tom Hanks', 'Tim Allen', 'Don Rickles', 'Jim...    John Lasseter   \n",
       "1  ['Robin Williams', 'Jonathan Hyde', 'Kirsten D...  Larry J. Franco   \n",
       "2  ['Walter Matthau', 'Jack Lemmon', 'Ann-Margret...    Howard Deutch   \n",
       "3  ['Whitney Houston', 'Angela Bassett', 'Loretta...  Forest Whitaker   \n",
       "4  ['Steve Martin', 'Diane Keaton', 'Martin Short...   Alan Silvestri   \n",
       "\n",
       "   weighted_average  \n",
       "0          7.690461  \n",
       "1          6.886919  \n",
       "2          6.312889  \n",
       "3          5.898441  \n",
       "4          5.690444  "
      ]
     },
     "execution_count": 34,
     "metadata": {},
     "output_type": "execute_result"
    }
   ],
   "source": [
    "df_movies['weighted_average']=((R*v)+ (C*m))/(v+m)\n",
    "df_movies.head()"
   ]
  },
  {
   "cell_type": "code",
   "execution_count": 35,
   "metadata": {},
   "outputs": [
    {
     "data": {
      "text/html": [
       "<div>\n",
       "<style scoped>\n",
       "    .dataframe tbody tr th:only-of-type {\n",
       "        vertical-align: middle;\n",
       "    }\n",
       "\n",
       "    .dataframe tbody tr th {\n",
       "        vertical-align: top;\n",
       "    }\n",
       "\n",
       "    .dataframe thead th {\n",
       "        text-align: right;\n",
       "    }\n",
       "</style>\n",
       "<table border=\"1\" class=\"dataframe\">\n",
       "  <thead>\n",
       "    <tr style=\"text-align: right;\">\n",
       "      <th></th>\n",
       "      <th>title</th>\n",
       "      <th>vote_count</th>\n",
       "      <th>vote_average</th>\n",
       "      <th>weighted_average</th>\n",
       "      <th>popularity</th>\n",
       "    </tr>\n",
       "  </thead>\n",
       "  <tbody>\n",
       "    <tr>\n",
       "      <th>10301</th>\n",
       "      <td>Dilwale Dulhania Le Jayenge</td>\n",
       "      <td>661.0</td>\n",
       "      <td>9.1</td>\n",
       "      <td>8.973335</td>\n",
       "      <td>34.457024</td>\n",
       "    </tr>\n",
       "    <tr>\n",
       "      <th>314</th>\n",
       "      <td>The Shawshank Redemption</td>\n",
       "      <td>8358.0</td>\n",
       "      <td>8.5</td>\n",
       "      <td>8.491424</td>\n",
       "      <td>51.645403</td>\n",
       "    </tr>\n",
       "    <tr>\n",
       "      <th>832</th>\n",
       "      <td>The Godfather</td>\n",
       "      <td>6024.0</td>\n",
       "      <td>8.5</td>\n",
       "      <td>8.488115</td>\n",
       "      <td>41.109264</td>\n",
       "    </tr>\n",
       "    <tr>\n",
       "      <th>40162</th>\n",
       "      <td>Your Name.</td>\n",
       "      <td>1030.0</td>\n",
       "      <td>8.5</td>\n",
       "      <td>8.431856</td>\n",
       "      <td>34.461252</td>\n",
       "    </tr>\n",
       "    <tr>\n",
       "      <th>39002</th>\n",
       "      <td>Planet Earth</td>\n",
       "      <td>176.0</td>\n",
       "      <td>8.8</td>\n",
       "      <td>8.405015</td>\n",
       "      <td>4.501137</td>\n",
       "    </tr>\n",
       "    <tr>\n",
       "      <th>12472</th>\n",
       "      <td>The Dark Knight</td>\n",
       "      <td>12269.0</td>\n",
       "      <td>8.3</td>\n",
       "      <td>8.294559</td>\n",
       "      <td>123.167259</td>\n",
       "    </tr>\n",
       "    <tr>\n",
       "      <th>2840</th>\n",
       "      <td>Fight Club</td>\n",
       "      <td>9678.0</td>\n",
       "      <td>8.3</td>\n",
       "      <td>8.293106</td>\n",
       "      <td>63.869599</td>\n",
       "    </tr>\n",
       "    <tr>\n",
       "      <th>292</th>\n",
       "      <td>Pulp Fiction</td>\n",
       "      <td>8670.0</td>\n",
       "      <td>8.3</td>\n",
       "      <td>8.292307</td>\n",
       "      <td>140.950236</td>\n",
       "    </tr>\n",
       "    <tr>\n",
       "      <th>522</th>\n",
       "      <td>Schindler's List</td>\n",
       "      <td>4436.0</td>\n",
       "      <td>8.3</td>\n",
       "      <td>8.285005</td>\n",
       "      <td>41.725123</td>\n",
       "    </tr>\n",
       "    <tr>\n",
       "      <th>23630</th>\n",
       "      <td>Whiplash</td>\n",
       "      <td>4376.0</td>\n",
       "      <td>8.3</td>\n",
       "      <td>8.284801</td>\n",
       "      <td>64.299990</td>\n",
       "    </tr>\n",
       "    <tr>\n",
       "      <th>5476</th>\n",
       "      <td>Spirited Away</td>\n",
       "      <td>3968.0</td>\n",
       "      <td>8.3</td>\n",
       "      <td>8.283248</td>\n",
       "      <td>41.048867</td>\n",
       "    </tr>\n",
       "    <tr>\n",
       "      <th>2208</th>\n",
       "      <td>Life Is Beautiful</td>\n",
       "      <td>3643.0</td>\n",
       "      <td>8.3</td>\n",
       "      <td>8.281763</td>\n",
       "      <td>39.394970</td>\n",
       "    </tr>\n",
       "    <tr>\n",
       "      <th>1176</th>\n",
       "      <td>The Godfather: Part II</td>\n",
       "      <td>3418.0</td>\n",
       "      <td>8.3</td>\n",
       "      <td>8.280572</td>\n",
       "      <td>36.629307</td>\n",
       "    </tr>\n",
       "    <tr>\n",
       "      <th>1150</th>\n",
       "      <td>One Flew Over the Cuckoo's Nest</td>\n",
       "      <td>3001.0</td>\n",
       "      <td>8.3</td>\n",
       "      <td>8.277894</td>\n",
       "      <td>35.529554</td>\n",
       "    </tr>\n",
       "    <tr>\n",
       "      <th>1174</th>\n",
       "      <td>Psycho</td>\n",
       "      <td>2405.0</td>\n",
       "      <td>8.3</td>\n",
       "      <td>8.272472</td>\n",
       "      <td>36.826309</td>\n",
       "    </tr>\n",
       "    <tr>\n",
       "      <th>1182</th>\n",
       "      <td>Once Upon a Time in America</td>\n",
       "      <td>1104.0</td>\n",
       "      <td>8.3</td>\n",
       "      <td>8.240751</td>\n",
       "      <td>32.182851</td>\n",
       "    </tr>\n",
       "    <tr>\n",
       "      <th>43217</th>\n",
       "      <td>Planet Earth II</td>\n",
       "      <td>50.0</td>\n",
       "      <td>9.5</td>\n",
       "      <td>8.208107</td>\n",
       "      <td>5.651997</td>\n",
       "    </tr>\n",
       "    <tr>\n",
       "      <th>351</th>\n",
       "      <td>Forrest Gump</td>\n",
       "      <td>8147.0</td>\n",
       "      <td>8.2</td>\n",
       "      <td>8.192120</td>\n",
       "      <td>48.307194</td>\n",
       "    </tr>\n",
       "    <tr>\n",
       "      <th>1152</th>\n",
       "      <td>The Empire Strikes Back</td>\n",
       "      <td>5998.0</td>\n",
       "      <td>8.2</td>\n",
       "      <td>8.189309</td>\n",
       "      <td>19.470959</td>\n",
       "    </tr>\n",
       "    <tr>\n",
       "      <th>18444</th>\n",
       "      <td>The Intouchables</td>\n",
       "      <td>5410.0</td>\n",
       "      <td>8.2</td>\n",
       "      <td>8.188152</td>\n",
       "      <td>16.086919</td>\n",
       "    </tr>\n",
       "  </tbody>\n",
       "</table>\n",
       "</div>"
      ],
      "text/plain": [
       "                                 title  vote_count  vote_average  \\\n",
       "10301      Dilwale Dulhania Le Jayenge       661.0           9.1   \n",
       "314           The Shawshank Redemption      8358.0           8.5   \n",
       "832                      The Godfather      6024.0           8.5   \n",
       "40162                       Your Name.      1030.0           8.5   \n",
       "39002                     Planet Earth       176.0           8.8   \n",
       "12472                  The Dark Knight     12269.0           8.3   \n",
       "2840                        Fight Club      9678.0           8.3   \n",
       "292                       Pulp Fiction      8670.0           8.3   \n",
       "522                   Schindler's List      4436.0           8.3   \n",
       "23630                         Whiplash      4376.0           8.3   \n",
       "5476                     Spirited Away      3968.0           8.3   \n",
       "2208                 Life Is Beautiful      3643.0           8.3   \n",
       "1176            The Godfather: Part II      3418.0           8.3   \n",
       "1150   One Flew Over the Cuckoo's Nest      3001.0           8.3   \n",
       "1174                            Psycho      2405.0           8.3   \n",
       "1182       Once Upon a Time in America      1104.0           8.3   \n",
       "43217                  Planet Earth II        50.0           9.5   \n",
       "351                       Forrest Gump      8147.0           8.2   \n",
       "1152           The Empire Strikes Back      5998.0           8.2   \n",
       "18444                 The Intouchables      5410.0           8.2   \n",
       "\n",
       "       weighted_average  popularity  \n",
       "10301          8.973335   34.457024  \n",
       "314            8.491424   51.645403  \n",
       "832            8.488115   41.109264  \n",
       "40162          8.431856   34.461252  \n",
       "39002          8.405015    4.501137  \n",
       "12472          8.294559  123.167259  \n",
       "2840           8.293106   63.869599  \n",
       "292            8.292307  140.950236  \n",
       "522            8.285005   41.725123  \n",
       "23630          8.284801   64.299990  \n",
       "5476           8.283248   41.048867  \n",
       "2208           8.281763   39.394970  \n",
       "1176           8.280572   36.629307  \n",
       "1150           8.277894   35.529554  \n",
       "1174           8.272472   36.826309  \n",
       "1182           8.240751   32.182851  \n",
       "43217          8.208107    5.651997  \n",
       "351            8.192120   48.307194  \n",
       "1152           8.189309   19.470959  \n",
       "18444          8.188152   16.086919  "
      ]
     },
     "execution_count": 35,
     "metadata": {},
     "output_type": "execute_result"
    }
   ],
   "source": [
    "movie_sorted_ranking = df_movies.sort_values('weighted_average', ascending=False)\n",
    "movie_sorted_ranking[['title', 'vote_count', 'vote_average', 'weighted_average', 'popularity']].head(20)"
   ]
  },
  {
   "attachments": {},
   "cell_type": "markdown",
   "metadata": {},
   "source": [
    "Graficar las mejores peliculas por promedio "
   ]
  },
  {
   "cell_type": "code",
   "execution_count": 36,
   "metadata": {},
   "outputs": [
    {
     "data": {
      "text/plain": [
       "Text(0, 0.5, 'Titulo de la pelicula')"
      ]
     },
     "execution_count": 36,
     "metadata": {},
     "output_type": "execute_result"
    },
    {
     "data": {
      "image/png": "[encoded data removed]",
      "text/plain": [
       "<Figure size 1200x600 with 1 Axes>"
      ]
     },
     "metadata": {},
     "output_type": "display_data"
    }
   ],
   "source": [
    "weight_average=movie_sorted_ranking.sort_values('weighted_average',ascending=False)\n",
    "plt.figure(figsize=(12,6))\n",
    "axis1=sns.barplot(x=weight_average['weighted_average'].head(10), y=weight_average['title'].head(10), data=weight_average)\n",
    "plt.xlim(4, 10)\n",
    "plt.title('Las mejores peliculas por promedio ', weight='bold')\n",
    "plt.xlabel('Weighted Average Score', weight='bold')\n",
    "plt.ylabel('Titulo de la pelicula', weight='bold')"
   ]
  },
  {
   "attachments": {},
   "cell_type": "markdown",
   "metadata": {},
   "source": [
    "Graficar mejores peliculas segun average votes"
   ]
  },
  {
   "cell_type": "code",
   "execution_count": 37,
   "metadata": {},
   "outputs": [
    {
     "data": {
      "text/plain": [
       "Text(0, 0.5, 'Titulo de la pelicula')"
      ]
     },
     "execution_count": 37,
     "metadata": {},
     "output_type": "execute_result"
    },
    {
     "data": {
      "image/png": "[encoded data removed]",
      "text/plain": [
       "<Figure size 1200x600 with 1 Axes>"
      ]
     },
     "metadata": {},
     "output_type": "display_data"
    }
   ],
   "source": [
    "weight_average=movie_sorted_ranking.sort_values('weighted_average',ascending=False)\n",
    "plt.figure(figsize=(12,6))\n",
    "axis1=sns.barplot(x=weight_average['weighted_average'].head(10), y=weight_average['title'].head(10), data=weight_average)\n",
    "plt.xlim(4, 10)\n",
    "plt.title('Mejores peliculas segun averages votes', weight='bold')\n",
    "plt.xlabel('Weighted Average Score', weight='bold')\n",
    "plt.ylabel('Titulo de la pelicula', weight='bold')"
   ]
  },
  {
   "attachments": {},
   "cell_type": "markdown",
   "metadata": {},
   "source": [
    "Graficar las peliculas mas populares por votacion"
   ]
  },
  {
   "cell_type": "code",
   "execution_count": 38,
   "metadata": {},
   "outputs": [
    {
     "data": {
      "text/plain": [
       "Text(0, 0.5, 'Titulo de la pelicula')"
      ]
     },
     "execution_count": 38,
     "metadata": {},
     "output_type": "execute_result"
    },
    {
     "data": {
      "image/png": "[encoded data removed]",
      "text/plain": [
       "<Figure size 1200x600 with 1 Axes>"
      ]
     },
     "metadata": {},
     "output_type": "display_data"
    }
   ],
   "source": [
    "popularity = movie_sorted_ranking.sort_values('popularity',ascending=False)\n",
    "plt.figure(figsize=(12,6))\n",
    "ax=sns.barplot(x=popularity['popularity'].head(10), y=popularity['title'].head(10), data=popularity)\n",
    "\n",
    "plt.title('Mejores peliculas por votos', weight='bold')\n",
    "plt.xlabel('Popularidad', weight='bold')\n",
    "plt.ylabel('Titulo de la pelicula', weight='bold')"
   ]
  },
  {
   "attachments": {},
   "cell_type": "markdown",
   "metadata": {},
   "source": [
    "Recomendación basada en la escala de weighted average y la puntuación de popularidad (se otorga prioridad del 50 % de ambos)"
   ]
  },
  {
   "cell_type": "code",
   "execution_count": 39,
   "metadata": {},
   "outputs": [
    {
     "data": {
      "text/html": [
       "<div>\n",
       "<style scoped>\n",
       "    .dataframe tbody tr th:only-of-type {\n",
       "        vertical-align: middle;\n",
       "    }\n",
       "\n",
       "    .dataframe tbody tr th {\n",
       "        vertical-align: top;\n",
       "    }\n",
       "\n",
       "    .dataframe thead th {\n",
       "        text-align: right;\n",
       "    }\n",
       "</style>\n",
       "<table border=\"1\" class=\"dataframe\">\n",
       "  <thead>\n",
       "    <tr style=\"text-align: right;\">\n",
       "      <th></th>\n",
       "      <th>weighted_average</th>\n",
       "      <th>popularity</th>\n",
       "    </tr>\n",
       "  </thead>\n",
       "  <tbody>\n",
       "    <tr>\n",
       "      <th>0</th>\n",
       "      <td>0.823763</td>\n",
       "      <td>0.040087</td>\n",
       "    </tr>\n",
       "    <tr>\n",
       "      <th>1</th>\n",
       "      <td>0.713375</td>\n",
       "      <td>0.031079</td>\n",
       "    </tr>\n",
       "    <tr>\n",
       "      <th>2</th>\n",
       "      <td>0.634517</td>\n",
       "      <td>0.021394</td>\n",
       "    </tr>\n",
       "    <tr>\n",
       "      <th>3</th>\n",
       "      <td>0.577582</td>\n",
       "      <td>0.007049</td>\n",
       "    </tr>\n",
       "    <tr>\n",
       "      <th>4</th>\n",
       "      <td>0.549008</td>\n",
       "      <td>0.015320</td>\n",
       "    </tr>\n",
       "  </tbody>\n",
       "</table>\n",
       "</div>"
      ],
      "text/plain": [
       "   weighted_average  popularity\n",
       "0          0.823763    0.040087\n",
       "1          0.713375    0.031079\n",
       "2          0.634517    0.021394\n",
       "3          0.577582    0.007049\n",
       "4          0.549008    0.015320"
      ]
     },
     "execution_count": 39,
     "metadata": {},
     "output_type": "execute_result"
    }
   ],
   "source": [
    "scaling = MinMaxScaler()\n",
    "movie_scaled_df = scaling.fit_transform(df_movies[['weighted_average','popularity']])\n",
    "movie_normalized_df = pd.DataFrame(movie_scaled_df,columns=['weighted_average','popularity'])\n",
    "movie_normalized_df.head()"
   ]
  },
  {
   "cell_type": "code",
   "execution_count": 40,
   "metadata": {},
   "outputs": [
    {
     "data": {
      "text/html": [
       "<div>\n",
       "<style scoped>\n",
       "    .dataframe tbody tr th:only-of-type {\n",
       "        vertical-align: middle;\n",
       "    }\n",
       "\n",
       "    .dataframe tbody tr th {\n",
       "        vertical-align: top;\n",
       "    }\n",
       "\n",
       "    .dataframe thead th {\n",
       "        text-align: right;\n",
       "    }\n",
       "</style>\n",
       "<table border=\"1\" class=\"dataframe\">\n",
       "  <thead>\n",
       "    <tr style=\"text-align: right;\">\n",
       "      <th></th>\n",
       "      <th>budget</th>\n",
       "      <th>id</th>\n",
       "      <th>overview</th>\n",
       "      <th>popularity</th>\n",
       "      <th>revenue</th>\n",
       "      <th>title</th>\n",
       "      <th>vote_average</th>\n",
       "      <th>vote_count</th>\n",
       "      <th>return</th>\n",
       "      <th>genres</th>\n",
       "      <th>release_year</th>\n",
       "      <th>cast</th>\n",
       "      <th>director</th>\n",
       "      <th>weighted_average</th>\n",
       "      <th>normalized_weight_average</th>\n",
       "      <th>normalized_popularity</th>\n",
       "    </tr>\n",
       "  </thead>\n",
       "  <tbody>\n",
       "    <tr>\n",
       "      <th>0</th>\n",
       "      <td>30000000.0</td>\n",
       "      <td>862</td>\n",
       "      <td>Led by Woody, Andy's toys live happily in his ...</td>\n",
       "      <td>21.946943</td>\n",
       "      <td>373554033.0</td>\n",
       "      <td>Toy Story</td>\n",
       "      <td>7.7</td>\n",
       "      <td>5415.0</td>\n",
       "      <td>12.451801</td>\n",
       "      <td>Animation Comedy Family</td>\n",
       "      <td>1995</td>\n",
       "      <td>['Tom Hanks', 'Tim Allen', 'Don Rickles', 'Jim...</td>\n",
       "      <td>John Lasseter</td>\n",
       "      <td>7.690461</td>\n",
       "      <td>0.823763</td>\n",
       "      <td>0.040087</td>\n",
       "    </tr>\n",
       "    <tr>\n",
       "      <th>1</th>\n",
       "      <td>65000000.0</td>\n",
       "      <td>8844</td>\n",
       "      <td>When siblings Judy and Peter discover an encha...</td>\n",
       "      <td>17.015539</td>\n",
       "      <td>262797249.0</td>\n",
       "      <td>Jumanji</td>\n",
       "      <td>6.9</td>\n",
       "      <td>2413.0</td>\n",
       "      <td>4.043035</td>\n",
       "      <td>Adventure Fantasy Family</td>\n",
       "      <td>1995</td>\n",
       "      <td>['Robin Williams', 'Jonathan Hyde', 'Kirsten D...</td>\n",
       "      <td>Larry J. Franco</td>\n",
       "      <td>6.886919</td>\n",
       "      <td>0.713375</td>\n",
       "      <td>0.031079</td>\n",
       "    </tr>\n",
       "    <tr>\n",
       "      <th>2</th>\n",
       "      <td>0.0</td>\n",
       "      <td>15602</td>\n",
       "      <td>A family wedding reignites the ancient feud be...</td>\n",
       "      <td>11.712900</td>\n",
       "      <td>0.0</td>\n",
       "      <td>Grumpier Old Men</td>\n",
       "      <td>6.5</td>\n",
       "      <td>92.0</td>\n",
       "      <td>0.000000</td>\n",
       "      <td>Romance Comedy</td>\n",
       "      <td>1995</td>\n",
       "      <td>['Walter Matthau', 'Jack Lemmon', 'Ann-Margret...</td>\n",
       "      <td>Howard Deutch</td>\n",
       "      <td>6.312889</td>\n",
       "      <td>0.634517</td>\n",
       "      <td>0.021394</td>\n",
       "    </tr>\n",
       "    <tr>\n",
       "      <th>3</th>\n",
       "      <td>16000000.0</td>\n",
       "      <td>31357</td>\n",
       "      <td>Cheated on, mistreated and stepped on, the wom...</td>\n",
       "      <td>3.859495</td>\n",
       "      <td>81452156.0</td>\n",
       "      <td>Waiting to Exhale</td>\n",
       "      <td>6.1</td>\n",
       "      <td>34.0</td>\n",
       "      <td>5.090760</td>\n",
       "      <td>Comedy Drama Romance</td>\n",
       "      <td>1995</td>\n",
       "      <td>['Whitney Houston', 'Angela Bassett', 'Loretta...</td>\n",
       "      <td>Forest Whitaker</td>\n",
       "      <td>5.898441</td>\n",
       "      <td>0.577582</td>\n",
       "      <td>0.007049</td>\n",
       "    </tr>\n",
       "    <tr>\n",
       "      <th>4</th>\n",
       "      <td>0.0</td>\n",
       "      <td>11862</td>\n",
       "      <td>Just when George Banks has recovered from his ...</td>\n",
       "      <td>8.387519</td>\n",
       "      <td>76578911.0</td>\n",
       "      <td>Father of the Bride Part II</td>\n",
       "      <td>5.7</td>\n",
       "      <td>173.0</td>\n",
       "      <td>0.000000</td>\n",
       "      <td>Comedy</td>\n",
       "      <td>1995</td>\n",
       "      <td>['Steve Martin', 'Diane Keaton', 'Martin Short...</td>\n",
       "      <td>Alan Silvestri</td>\n",
       "      <td>5.690444</td>\n",
       "      <td>0.549008</td>\n",
       "      <td>0.015320</td>\n",
       "    </tr>\n",
       "  </tbody>\n",
       "</table>\n",
       "</div>"
      ],
      "text/plain": [
       "       budget     id                                           overview  \\\n",
       "0  30000000.0    862  Led by Woody, Andy's toys live happily in his ...   \n",
       "1  65000000.0   8844  When siblings Judy and Peter discover an encha...   \n",
       "2         0.0  15602  A family wedding reignites the ancient feud be...   \n",
       "3  16000000.0  31357  Cheated on, mistreated and stepped on, the wom...   \n",
       "4         0.0  11862  Just when George Banks has recovered from his ...   \n",
       "\n",
       "   popularity      revenue                        title  vote_average  \\\n",
       "0   21.946943  373554033.0                    Toy Story           7.7   \n",
       "1   17.015539  262797249.0                      Jumanji           6.9   \n",
       "2   11.712900          0.0             Grumpier Old Men           6.5   \n",
       "3    3.859495   81452156.0            Waiting to Exhale           6.1   \n",
       "4    8.387519   76578911.0  Father of the Bride Part II           5.7   \n",
       "\n",
       "   vote_count     return                    genres  release_year  \\\n",
       "0      5415.0  12.451801   Animation Comedy Family          1995   \n",
       "1      2413.0   4.043035  Adventure Fantasy Family          1995   \n",
       "2        92.0   0.000000            Romance Comedy          1995   \n",
       "3        34.0   5.090760      Comedy Drama Romance          1995   \n",
       "4       173.0   0.000000                    Comedy          1995   \n",
       "\n",
       "                                                cast         director  \\\n",
       "0  ['Tom Hanks', 'Tim Allen', 'Don Rickles', 'Jim...    John Lasseter   \n",
       "1  ['Robin Williams', 'Jonathan Hyde', 'Kirsten D...  Larry J. Franco   \n",
       "2  ['Walter Matthau', 'Jack Lemmon', 'Ann-Margret...    Howard Deutch   \n",
       "3  ['Whitney Houston', 'Angela Bassett', 'Loretta...  Forest Whitaker   \n",
       "4  ['Steve Martin', 'Diane Keaton', 'Martin Short...   Alan Silvestri   \n",
       "\n",
       "   weighted_average  normalized_weight_average  normalized_popularity  \n",
       "0          7.690461                   0.823763               0.040087  \n",
       "1          6.886919                   0.713375               0.031079  \n",
       "2          6.312889                   0.634517               0.021394  \n",
       "3          5.898441                   0.577582               0.007049  \n",
       "4          5.690444                   0.549008               0.015320  "
      ]
     },
     "execution_count": 40,
     "metadata": {},
     "output_type": "execute_result"
    }
   ],
   "source": [
    "df_movies[['normalized_weight_average','normalized_popularity']]= movie_normalized_df\n",
    "df_movies.head()"
   ]
  },
  {
   "cell_type": "code",
   "execution_count": 41,
   "metadata": {},
   "outputs": [
    {
     "data": {
      "text/html": [
       "<div>\n",
       "<style scoped>\n",
       "    .dataframe tbody tr th:only-of-type {\n",
       "        vertical-align: middle;\n",
       "    }\n",
       "\n",
       "    .dataframe tbody tr th {\n",
       "        vertical-align: top;\n",
       "    }\n",
       "\n",
       "    .dataframe thead th {\n",
       "        text-align: right;\n",
       "    }\n",
       "</style>\n",
       "<table border=\"1\" class=\"dataframe\">\n",
       "  <thead>\n",
       "    <tr style=\"text-align: right;\">\n",
       "      <th></th>\n",
       "      <th>title</th>\n",
       "      <th>normalized_weight_average</th>\n",
       "      <th>normalized_popularity</th>\n",
       "      <th>score</th>\n",
       "    </tr>\n",
       "  </thead>\n",
       "  <tbody>\n",
       "    <tr>\n",
       "      <th>30644</th>\n",
       "      <td>Minions</td>\n",
       "      <td>0.645924</td>\n",
       "      <td>1.000000</td>\n",
       "      <td>0.822962</td>\n",
       "    </tr>\n",
       "    <tr>\n",
       "      <th>33295</th>\n",
       "      <td>Wonder Woman</td>\n",
       "      <td>0.755314</td>\n",
       "      <td>0.537613</td>\n",
       "      <td>0.646464</td>\n",
       "    </tr>\n",
       "    <tr>\n",
       "      <th>24410</th>\n",
       "      <td>Big Hero 6</td>\n",
       "      <td>0.837628</td>\n",
       "      <td>0.390602</td>\n",
       "      <td>0.614115</td>\n",
       "    </tr>\n",
       "    <tr>\n",
       "      <th>42124</th>\n",
       "      <td>Beauty and the Beast</td>\n",
       "      <td>0.700708</td>\n",
       "      <td>0.524675</td>\n",
       "      <td>0.612692</td>\n",
       "    </tr>\n",
       "    <tr>\n",
       "      <th>43539</th>\n",
       "      <td>Baby Driver</td>\n",
       "      <td>0.753818</td>\n",
       "      <td>0.416507</td>\n",
       "      <td>0.585163</td>\n",
       "    </tr>\n",
       "    <tr>\n",
       "      <th>292</th>\n",
       "      <td>Pulp Fiction</td>\n",
       "      <td>0.906443</td>\n",
       "      <td>0.257449</td>\n",
       "      <td>0.581946</td>\n",
       "    </tr>\n",
       "    <tr>\n",
       "      <th>26519</th>\n",
       "      <td>Guardians of the Galaxy Vol. 2</td>\n",
       "      <td>0.809946</td>\n",
       "      <td>0.338511</td>\n",
       "      <td>0.574229</td>\n",
       "    </tr>\n",
       "    <tr>\n",
       "      <th>23632</th>\n",
       "      <td>Gone Girl</td>\n",
       "      <td>0.851257</td>\n",
       "      <td>0.282748</td>\n",
       "      <td>0.567002</td>\n",
       "    </tr>\n",
       "    <tr>\n",
       "      <th>12472</th>\n",
       "      <td>The Dark Knight</td>\n",
       "      <td>0.906752</td>\n",
       "      <td>0.224968</td>\n",
       "      <td>0.565860</td>\n",
       "    </tr>\n",
       "    <tr>\n",
       "      <th>26517</th>\n",
       "      <td>Deadpool</td>\n",
       "      <td>0.783329</td>\n",
       "      <td>0.343132</td>\n",
       "      <td>0.563230</td>\n",
       "    </tr>\n",
       "    <tr>\n",
       "      <th>14540</th>\n",
       "      <td>Avatar</td>\n",
       "      <td>0.755940</td>\n",
       "      <td>0.338036</td>\n",
       "      <td>0.546988</td>\n",
       "    </tr>\n",
       "    <tr>\n",
       "      <th>24306</th>\n",
       "      <td>John Wick</td>\n",
       "      <td>0.728055</td>\n",
       "      <td>0.335843</td>\n",
       "      <td>0.531949</td>\n",
       "    </tr>\n",
       "    <tr>\n",
       "      <th>10301</th>\n",
       "      <td>Dilwale Dulhania Le Jayenge</td>\n",
       "      <td>1.000000</td>\n",
       "      <td>0.062937</td>\n",
       "      <td>0.531468</td>\n",
       "    </tr>\n",
       "    <tr>\n",
       "      <th>314</th>\n",
       "      <td>The Shawshank Redemption</td>\n",
       "      <td>0.933797</td>\n",
       "      <td>0.094332</td>\n",
       "      <td>0.514064</td>\n",
       "    </tr>\n",
       "    <tr>\n",
       "      <th>536</th>\n",
       "      <td>Blade Runner</td>\n",
       "      <td>0.850523</td>\n",
       "      <td>0.175844</td>\n",
       "      <td>0.513183</td>\n",
       "    </tr>\n",
       "    <tr>\n",
       "      <th>2840</th>\n",
       "      <td>Fight Club</td>\n",
       "      <td>0.906552</td>\n",
       "      <td>0.116659</td>\n",
       "      <td>0.511606</td>\n",
       "    </tr>\n",
       "    <tr>\n",
       "      <th>23630</th>\n",
       "      <td>Whiplash</td>\n",
       "      <td>0.905412</td>\n",
       "      <td>0.117445</td>\n",
       "      <td>0.511428</td>\n",
       "    </tr>\n",
       "    <tr>\n",
       "      <th>832</th>\n",
       "      <td>The Godfather</td>\n",
       "      <td>0.933342</td>\n",
       "      <td>0.075087</td>\n",
       "      <td>0.504215</td>\n",
       "    </tr>\n",
       "    <tr>\n",
       "      <th>26520</th>\n",
       "      <td>Captain America: Civil War</td>\n",
       "      <td>0.741971</td>\n",
       "      <td>0.266457</td>\n",
       "      <td>0.504214</td>\n",
       "    </tr>\n",
       "    <tr>\n",
       "      <th>40162</th>\n",
       "      <td>Your Name.</td>\n",
       "      <td>0.925613</td>\n",
       "      <td>0.062944</td>\n",
       "      <td>0.494279</td>\n",
       "    </tr>\n",
       "  </tbody>\n",
       "</table>\n",
       "</div>"
      ],
      "text/plain": [
       "                                title  normalized_weight_average  \\\n",
       "30644                         Minions                   0.645924   \n",
       "33295                    Wonder Woman                   0.755314   \n",
       "24410                      Big Hero 6                   0.837628   \n",
       "42124            Beauty and the Beast                   0.700708   \n",
       "43539                     Baby Driver                   0.753818   \n",
       "292                      Pulp Fiction                   0.906443   \n",
       "26519  Guardians of the Galaxy Vol. 2                   0.809946   \n",
       "23632                       Gone Girl                   0.851257   \n",
       "12472                 The Dark Knight                   0.906752   \n",
       "26517                        Deadpool                   0.783329   \n",
       "14540                          Avatar                   0.755940   \n",
       "24306                       John Wick                   0.728055   \n",
       "10301     Dilwale Dulhania Le Jayenge                   1.000000   \n",
       "314          The Shawshank Redemption                   0.933797   \n",
       "536                      Blade Runner                   0.850523   \n",
       "2840                       Fight Club                   0.906552   \n",
       "23630                        Whiplash                   0.905412   \n",
       "832                     The Godfather                   0.933342   \n",
       "26520      Captain America: Civil War                   0.741971   \n",
       "40162                      Your Name.                   0.925613   \n",
       "\n",
       "       normalized_popularity     score  \n",
       "30644               1.000000  0.822962  \n",
       "33295               0.537613  0.646464  \n",
       "24410               0.390602  0.614115  \n",
       "42124               0.524675  0.612692  \n",
       "43539               0.416507  0.585163  \n",
       "292                 0.257449  0.581946  \n",
       "26519               0.338511  0.574229  \n",
       "23632               0.282748  0.567002  \n",
       "12472               0.224968  0.565860  \n",
       "26517               0.343132  0.563230  \n",
       "14540               0.338036  0.546988  \n",
       "24306               0.335843  0.531949  \n",
       "10301               0.062937  0.531468  \n",
       "314                 0.094332  0.514064  \n",
       "536                 0.175844  0.513183  \n",
       "2840                0.116659  0.511606  \n",
       "23630               0.117445  0.511428  \n",
       "832                 0.075087  0.504215  \n",
       "26520               0.266457  0.504214  \n",
       "40162               0.062944  0.494279  "
      ]
     },
     "execution_count": 41,
     "metadata": {},
     "output_type": "execute_result"
    }
   ],
   "source": [
    "df_movies['score'] = df_movies['normalized_weight_average'] * 0.5 + df_movies['normalized_popularity'] * 0.5\n",
    "movies_scored_df = df_movies.sort_values(['score'], ascending=False)\n",
    "movies_scored_df[['title', 'normalized_weight_average', 'normalized_popularity', 'score']].head(20)"
   ]
  },
  {
   "cell_type": "code",
   "execution_count": 42,
   "metadata": {},
   "outputs": [
    {
     "data": {
      "text/plain": [
       "Text(0, 0.5, 'Titulo de la pelicula')"
      ]
     },
     "execution_count": 42,
     "metadata": {},
     "output_type": "execute_result"
    },
    {
     "data": {
      "image/png": "[encoded data removed]",
      "text/plain": [
       "<Figure size 1600x600 with 1 Axes>"
      ]
     },
     "metadata": {},
     "output_type": "display_data"
    }
   ],
   "source": [
    "scored_df = df_movies.sort_values('score', ascending=False)\n",
    "\n",
    "plt.figure(figsize=(16,6))\n",
    "\n",
    "ax = sns.barplot(x=scored_df['score'].head(10), y=scored_df['title'].head(10), data=scored_df, palette='deep')\n",
    "\n",
    "#plt.xlim(3.55, 5.25)\n",
    "plt.title('Mejor calificacion y mas popular', weight='bold')\n",
    "plt.xlabel('Score', weight='bold')\n",
    "plt.ylabel('Titulo de la pelicula', weight='bold')"
   ]
  },
  {
   "attachments": {},
   "cell_type": "markdown",
   "metadata": {},
   "source": [
    "Crear un nuevo archivo CSV para el sistema de recomendaciones"
   ]
  },
  {
   "cell_type": "code",
   "execution_count": 43,
   "metadata": {},
   "outputs": [],
   "source": [
    "df_title.to_csv(r'C:\\Users\\cacer\\OneDrive\\Escritorio\\PI01-MLOps/sistem_recomendacion.csv', index=False)"
   ]
  }
 ],
 "metadata": {
  "kernelspec": {
   "display_name": "Python 3",
   "language": "python",
   "name": "python3"
  },
  "language_info": {
   "codemirror_mode": {
    "name": "ipython",
    "version": 3
   },
   "file_extension": ".py",
   "mimetype": "text/x-python",
   "name": "python",
   "nbconvert_exporter": "python",
   "pygments_lexer": "ipython3",
   "version": "3.11.2"
  },
  "orig_nbformat": 4
 },
 "nbformat": 4,
 "nbformat_minor": 2
}
